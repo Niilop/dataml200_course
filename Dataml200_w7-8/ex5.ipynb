{
 "cells": [
  {
   "cell_type": "code",
   "execution_count": 186,
   "id": "52e1b70b",
   "metadata": {},
   "outputs": [
    {
     "name": "stdout",
     "output_type": "stream",
     "text": [
      "+---------+\n",
      "|R: | : :\u001b[34;1mG\u001b[0m|\n",
      "| : | : : |\n",
      "| : : : : |\n",
      "| | : | : |\n",
      "|\u001b[35mY\u001b[0m| : |B:\u001b[43m \u001b[0m|\n",
      "+---------+\n",
      "\n"
     ]
    }
   ],
   "source": [
    "import gym\n",
    "import time\n",
    "import numpy as np\n",
    "import matplotlib.pyplot as plt\n",
    "import tensorflow as tf\n",
    "\n",
    "env = gym.make(\"Taxi-v3\")\n",
    "env.reset()\n",
    "env.render()"
   ]
  },
  {
   "cell_type": "code",
   "execution_count": 187,
   "id": "6e83e20f",
   "metadata": {},
   "outputs": [],
   "source": [
    "def eval_policy_better(env_, pi_, gamma_, t_max_, episodes_):\n",
    "    env_.reset()\n",
    "\n",
    "    v_pi_rep = np.empty(episodes_)\n",
    "    for e in range(episodes_):\n",
    "        s_t = env.reset()\n",
    "        v_pi = 0\n",
    "        for t in range(t_max_):\n",
    "            a_t = pi_[s_t]\n",
    "            s_t, r_t, done, info = env_.step(a_t) \n",
    "            v_pi += gamma_**t*r_t\n",
    "            if done:\n",
    "                break\n",
    "        v_pi_rep[e] = v_pi\n",
    "        env.close()\n",
    "    return np.mean(v_pi_rep), np.min(v_pi_rep), np.max(v_pi_rep), np.std(v_pi_rep)"
   ]
  },
  {
   "cell_type": "code",
   "execution_count": 188,
   "id": "ee2b876c",
   "metadata": {},
   "outputs": [
    {
     "data": {
      "text/plain": [
       "306"
      ]
     },
     "execution_count": 188,
     "metadata": {},
     "output_type": "execute_result"
    }
   ],
   "source": [
    "num_states = env.observation_space.n\n",
    "num_actions = env.action_space.n\n",
    "\n",
    "qtable = np.zeros((num_states,num_actions)) \n",
    "episodes = 2000\n",
    "interactions = 100\n",
    "epsilon = 0.99\n",
    "alpha = 0.5\n",
    "gamma = 0.9 \n",
    "hist = [] \n",
    "\n",
    "# Main Q-learning loop\n",
    "for episode in range(episodes):\n",
    "\n",
    "    state = env.reset()\n",
    "    step = 0\n",
    "    done = False\n",
    "    total_rewards = 0\n",
    "    \n",
    "    for interact in range(interactions):\n",
    "        # exploitation vs. exploratin by e-greedy sampling of actions\n",
    "        if np.random.uniform(0, 1) > epsilon:\n",
    "            action = np.argmax(qtable[state,:])\n",
    "        else:\n",
    "            action = np.random.randint(0,num_actions)\n",
    "\n",
    "        # Observe\n",
    "        new_state, reward, done, info = env.step(action)\n",
    "\n",
    "        # Update Q-table\n",
    "        qtable[state, action] = qtable[state, action] + alpha * (reward + gamma * np.max(qtable[new_state, :]) - qtable[state, action])\n",
    "                \n",
    "        # Our new state is state\n",
    "        state = new_state\n",
    "        \n",
    "        # Check if terminated\n",
    "        if done == True: \n",
    "            break\n",
    "\n",
    "    if episode % 10 == 0 or episode == 1:\n",
    "        pi = np.argmax(qtable, axis=1)\n",
    "        val_mean, val_min, val_max, val_std = eval_policy_better(env, pi, gamma, interactions, 1000)\n",
    "        hist.append([episode, val_mean,val_min,val_max,val_std])\n",
    "\n",
    "\n",
    "env.reset()"
   ]
  },
  {
   "cell_type": "code",
   "execution_count": 189,
   "id": "51b43bf7",
   "metadata": {},
   "outputs": [
    {
     "name": "stdout",
     "output_type": "stream",
     "text": [
      "(201, 5)\n"
     ]
    },
    {
     "data": {
      "image/png": "[encoded data removed]",
      "text/plain": [
       "<Figure size 640x480 with 1 Axes>"
      ]
     },
     "metadata": {},
     "output_type": "display_data"
    }
   ],
   "source": [
    "hist = np.array(hist)\n",
    "print(hist.shape)\n",
    "\n",
    "plt.plot(hist[:,0],hist[:,1])\n",
    "plt.fill_between(hist[:,0], hist[:,1]-hist[:,4],hist[:,1]+hist[:,4],\n",
    "    alpha=1, edgecolor='#3F7F4C', facecolor='#7EFF99',\n",
    "    linewidth=0)\n",
    "plt.show()"
   ]
  },
  {
   "cell_type": "code",
   "execution_count": 190,
   "id": "a4b02747",
   "metadata": {},
   "outputs": [],
   "source": [
    "x = np.arange(0, 500)\n",
    "x_one_hot = tf.keras.utils.to_categorical(x, num_classes=500)\n",
    "\n",
    "max_indices = np.argmax(qtable, axis=1)\n",
    "y_one_hot = np.eye(6)[max_indices]"
   ]
  },
  {
   "cell_type": "code",
   "execution_count": 191,
   "id": "f829d231",
   "metadata": {},
   "outputs": [
    {
     "name": "stdout",
     "output_type": "stream",
     "text": [
      "Model: \"sequential_13\"\n",
      "_________________________________________________________________\n",
      " Layer (type)                Output Shape              Param #   \n",
      "=================================================================\n",
      " dense_40 (Dense)            (None, 64)                32064     \n",
      "                                                                 \n",
      " dense_41 (Dense)            (None, 64)                4160      \n",
      "                                                                 \n",
      " dense_42 (Dense)            (None, 6)                 390       \n",
      "                                                                 \n",
      "=================================================================\n",
      "Total params: 36,614\n",
      "Trainable params: 36,614\n",
      "Non-trainable params: 0\n",
      "_________________________________________________________________\n"
     ]
    }
   ],
   "source": [
    "model = tf.keras.models.Sequential([    \n",
    "    tf.keras.layers.Input(shape=(num_states)),\n",
    "    tf.keras.layers.Dense(64, activation=\"relu\"),\n",
    "    tf.keras.layers.Dense(64, activation=\"relu\"),\n",
    "    tf.keras.layers.Dense(num_actions, activation='softmax')\n",
    "])\n",
    "\n",
    "model.compile(optimizer='adam',\n",
    "              loss=tf.keras.losses.categorical_crossentropy)\n",
    "\n",
    "model.summary()"
   ]
  },
  {
   "cell_type": "code",
   "execution_count": 192,
   "id": "9cec2989",
   "metadata": {},
   "outputs": [
    {
     "name": "stdout",
     "output_type": "stream",
     "text": [
      "Epoch 1/40\n",
      "16/16 [==============================] - 0s 2ms/step - loss: 1.7549\n",
      "Epoch 2/40\n",
      "16/16 [==============================] - 0s 2ms/step - loss: 1.6442\n",
      "Epoch 3/40\n",
      "16/16 [==============================] - 0s 2ms/step - loss: 1.5135\n",
      "Epoch 4/40\n",
      "16/16 [==============================] - 0s 2ms/step - loss: 1.3921\n",
      "Epoch 5/40\n",
      "16/16 [==============================] - 0s 2ms/step - loss: 1.3235\n",
      "Epoch 6/40\n",
      "16/16 [==============================] - 0s 2ms/step - loss: 1.2615\n",
      "Epoch 7/40\n",
      "16/16 [==============================] - 0s 2ms/step - loss: 1.1925\n",
      "Epoch 8/40\n",
      "16/16 [==============================] - 0s 2ms/step - loss: 1.1070\n",
      "Epoch 9/40\n",
      "16/16 [==============================] - 0s 2ms/step - loss: 0.9916\n",
      "Epoch 10/40\n",
      "16/16 [==============================] - 0s 2ms/step - loss: 0.8524\n",
      "Epoch 11/40\n",
      "16/16 [==============================] - 0s 2ms/step - loss: 0.7028\n",
      "Epoch 12/40\n",
      "16/16 [==============================] - 0s 2ms/step - loss: 0.5556\n",
      "Epoch 13/40\n",
      "16/16 [==============================] - 0s 2ms/step - loss: 0.4307\n",
      "Epoch 14/40\n",
      "16/16 [==============================] - 0s 2ms/step - loss: 0.3271\n",
      "Epoch 15/40\n",
      "16/16 [==============================] - 0s 2ms/step - loss: 0.2504\n",
      "Epoch 16/40\n",
      "16/16 [==============================] - 0s 1ms/step - loss: 0.1969\n",
      "Epoch 17/40\n",
      "16/16 [==============================] - 0s 2ms/step - loss: 0.1593\n",
      "Epoch 18/40\n",
      "16/16 [==============================] - 0s 2ms/step - loss: 0.1332\n",
      "Epoch 19/40\n",
      "16/16 [==============================] - 0s 1ms/step - loss: 0.1154\n",
      "Epoch 20/40\n",
      "16/16 [==============================] - 0s 2ms/step - loss: 0.1022\n",
      "Epoch 21/40\n",
      "16/16 [==============================] - 0s 2ms/step - loss: 0.0912\n",
      "Epoch 22/40\n",
      "16/16 [==============================] - 0s 2ms/step - loss: 0.0820\n",
      "Epoch 23/40\n",
      "16/16 [==============================] - 0s 2ms/step - loss: 0.0742\n",
      "Epoch 24/40\n",
      "16/16 [==============================] - 0s 2ms/step - loss: 0.0670\n",
      "Epoch 25/40\n",
      "16/16 [==============================] - 0s 2ms/step - loss: 0.0600\n",
      "Epoch 26/40\n",
      "16/16 [==============================] - 0s 2ms/step - loss: 0.0531\n",
      "Epoch 27/40\n",
      "16/16 [==============================] - 0s 2ms/step - loss: 0.0465\n",
      "Epoch 28/40\n",
      "16/16 [==============================] - 0s 2ms/step - loss: 0.0402\n",
      "Epoch 29/40\n",
      "16/16 [==============================] - 0s 2ms/step - loss: 0.0341\n",
      "Epoch 30/40\n",
      "16/16 [==============================] - 0s 2ms/step - loss: 0.0291\n",
      "Epoch 31/40\n",
      "16/16 [==============================] - 0s 2ms/step - loss: 0.0244\n",
      "Epoch 32/40\n",
      "16/16 [==============================] - 0s 2ms/step - loss: 0.0206\n",
      "Epoch 33/40\n",
      "16/16 [==============================] - 0s 2ms/step - loss: 0.0173\n",
      "Epoch 34/40\n",
      "16/16 [==============================] - 0s 2ms/step - loss: 0.0147\n",
      "Epoch 35/40\n",
      "16/16 [==============================] - 0s 2ms/step - loss: 0.0125\n",
      "Epoch 36/40\n",
      "16/16 [==============================] - 0s 2ms/step - loss: 0.0106\n",
      "Epoch 37/40\n",
      "16/16 [==============================] - 0s 2ms/step - loss: 0.0091\n",
      "Epoch 38/40\n",
      "16/16 [==============================] - 0s 2ms/step - loss: 0.0080\n",
      "Epoch 39/40\n",
      "16/16 [==============================] - 0s 2ms/step - loss: 0.0068\n",
      "Epoch 40/40\n",
      "16/16 [==============================] - 0s 2ms/step - loss: 0.0060\n"
     ]
    },
    {
     "data": {
      "text/plain": [
       "<keras.callbacks.History at 0x2087feecc70>"
      ]
     },
     "execution_count": 192,
     "metadata": {},
     "output_type": "execute_result"
    }
   ],
   "source": [
    "model.fit(x_one_hot, y_one_hot, epochs = 40)"
   ]
  },
  {
   "cell_type": "code",
   "execution_count": 197,
   "id": "18c7a239",
   "metadata": {},
   "outputs": [],
   "source": [
    "def eval_nn(q, e): \n",
    "    num_states = env.observation_space.n\n",
    "    num_actions = env.action_space.n\n",
    "\n",
    "    episodes = e\n",
    "    interactions = 100\n",
    "    rewards = []\n",
    "\n",
    "    for episode in range(episodes):\n",
    "\n",
    "        state = env.reset()\n",
    "        step = 0\n",
    "        done = False\n",
    "        total_rewards = 0\n",
    "\n",
    "        for interact in range(interactions):\n",
    "            if q:\n",
    "                action = np.argmax(qtable[state,:])\n",
    "            else: \n",
    "                one_hot = tf.one_hot(state, depth=500).numpy().reshape(1,500)\n",
    "                action = np.argmax(model.predict(one_hot, verbose=0))\n",
    "\n",
    "            new_state, reward, done, info = env.step(action)\n",
    "            # Our new state is state\n",
    "            state = new_state\n",
    "\n",
    "            total_rewards += reward\n",
    "            # Check if terminated\n",
    "            if done == True: \n",
    "                break\n",
    "        rewards.append(total_rewards)\n",
    "    env.reset()  \n",
    "    return sum(rewards)/episodes\n",
    "    "
   ]
  },
  {
   "cell_type": "code",
   "execution_count": 198,
   "id": "de7b0486",
   "metadata": {},
   "outputs": [
    {
     "name": "stdout",
     "output_type": "stream",
     "text": [
      "Average reward with NN 100 episodes = 7.52\n",
      "Average reward with qtable 100 episodes = 8.26\n"
     ]
    }
   ],
   "source": [
    "e = 100\n",
    "q = False\n",
    "print(\"Average reward with NN\", e ,\"episodes =\" ,eval_nn(q, e))\n",
    "q = True\n",
    "print(\"Average reward with qtable\", e ,\"episodes =\" ,eval_nn(q, e))"
   ]
  }
 ],
 "metadata": {
  "kernelspec": {
   "display_name": "testenv",
   "language": "python",
   "name": "testenv"
  },
  "language_info": {
   "codemirror_mode": {
    "name": "ipython",
    "version": 3
   },
   "file_extension": ".py",
   "mimetype": "text/x-python",
   "name": "python",
   "nbconvert_exporter": "python",
   "pygments_lexer": "ipython3",
   "version": "3.10.11"
  }
 },
 "nbformat": 4,
 "nbformat_minor": 5
}
